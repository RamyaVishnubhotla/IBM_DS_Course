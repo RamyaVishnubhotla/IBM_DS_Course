{
 "cells": [
  {
   "cell_type": "markdown",
   "id": "745b45fe",
   "metadata": {},
   "source": [
    "# Data Science Tools and Ecosystem"
   ]
  },
  {
   "cell_type": "markdown",
   "id": "34a8c5ad",
   "metadata": {},
   "source": [
    "## Author:\n",
    "Ramya Vishnubhotla"
   ]
  },
  {
   "cell_type": "markdown",
   "id": "11a18583",
   "metadata": {},
   "source": [
    "## In this notebook, Data Science Tools and Ecosystem are summarized."
   ]
  },
  {
   "cell_type": "markdown",
   "id": "a67ef212",
   "metadata": {},
   "source": [
    "### Objectives:"
   ]
  },
  {
   "cell_type": "markdown",
   "id": "b1946f2e",
   "metadata": {},
   "source": [
    "-   Languages for data science\n",
    "-   Library packages for data science\n",
    "-   Tools for data science\n",
    "-   Evaluating arithmetic expressions"
   ]
  },
  {
   "cell_type": "markdown",
   "id": "c1f0b8c1",
   "metadata": {},
   "source": [
    "### Some of the popular languages that Data Scientists use are:\n",
    "#### 1) Python\n",
    "#### 2) R\n",
    "#### 3) Java \n",
    "#### 4) Matlab\n"
   ]
  },
  {
   "cell_type": "markdown",
   "id": "b9c3ed60",
   "metadata": {},
   "source": [
    "### Some of the commonly used libraries used by Data Scientists include:\n",
    "#### 1) matplotlib \n",
    "#### 2) plotly \n",
    "#### 3) pandas\n",
    "#### 4) scikit-learn\n"
   ]
  },
  {
   "cell_type": "markdown",
   "id": "9109e38c",
   "metadata": {},
   "source": [
    "| Data Science Tools |\n",
    "|------|\n",
    "|   VS code |\n",
    "|   Jupyter notebook   |\n",
    "|  RStudio    |"
   ]
  },
  {
   "cell_type": "markdown",
   "id": "00125ea5",
   "metadata": {},
   "source": [
    "### Below are some examples of evaluating arithmetic expressions in Python:"
   ]
  },
  {
   "cell_type": "code",
   "execution_count": 5,
   "id": "585afd96",
   "metadata": {},
   "outputs": [
    {
     "data": {
      "text/plain": [
       "17"
      ]
     },
     "execution_count": 5,
     "metadata": {},
     "output_type": "execute_result"
    }
   ],
   "source": [
    "#here is a simple arithmetic expression using the PEMDAS method to multiply and add integers. It should yield 17:\n",
    "(3*4)+5"
   ]
  },
  {
   "cell_type": "code",
   "execution_count": 6,
   "id": "17bf8978",
   "metadata": {},
   "outputs": [
    {
     "name": "stdout",
     "output_type": "stream",
     "text": [
      "3.3333333333333335\n"
     ]
    }
   ],
   "source": [
    "#the following code converts 200 minutes into hours by dividing by 60 minutes/hour.\n",
    "minutes=200\n",
    "hours=minutes/60\n",
    "print(hours)\n"
   ]
  }
 ],
 "metadata": {
  "kernelspec": {
   "display_name": "Python 3 (ipykernel)",
   "language": "python",
   "name": "python3"
  },
  "language_info": {
   "codemirror_mode": {
    "name": "ipython",
    "version": 3
   },
   "file_extension": ".py",
   "mimetype": "text/x-python",
   "name": "python",
   "nbconvert_exporter": "python",
   "pygments_lexer": "ipython3",
   "version": "3.7.1"
  }
 },
 "nbformat": 4,
 "nbformat_minor": 5
}
